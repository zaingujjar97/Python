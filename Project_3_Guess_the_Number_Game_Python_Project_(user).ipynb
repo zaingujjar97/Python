{
  "nbformat": 4,
  "nbformat_minor": 0,
  "metadata": {
    "colab": {
      "provenance": []
    },
    "kernelspec": {
      "name": "python3",
      "display_name": "Python 3"
    },
    "language_info": {
      "name": "python"
    }
  },
  "cells": [
    {
      "cell_type": "code",
      "execution_count": null,
      "metadata": {
        "colab": {
          "base_uri": "https://localhost:8080/"
        },
        "id": "bXO0AHhtWwqU",
        "outputId": "94a29a5c-9621-4444-da19-91108d452629"
      },
      "outputs": [
        {
          "output_type": "stream",
          "name": "stdout",
          "text": [
            "Think of a number between 1 and 100, and I will try to guess it!\n",
            "Is your number 50? (h/l/c): h\n",
            "Is your number 25? (h/l/c): c\n",
            "Great! I guessed your number 25 in 2 attempts.\n"
          ]
        }
      ],
      "source": [
        "import random\n",
        "\n",
        "class NumberGuesser:\n",
        "    def __init__(self, lower=1, upper=100):\n",
        "        self.lower = lower\n",
        "        self.upper = upper\n",
        "\n",
        "    def play(self):\n",
        "        print(f\"Think of a number between {self.lower} and {self.upper}, and I will try to guess it!\")\n",
        "        low, high = self.lower, self.upper\n",
        "        attempts = 0\n",
        "\n",
        "        while low <= high:\n",
        "            attempts += 1\n",
        "            guess = (low + high) // 2\n",
        "            response = input(f\"Is your number {guess}? (h/l/c): \").lower()\n",
        "\n",
        "            if response == 'c':\n",
        "                print(f\"Great! I guessed your number {guess} in {attempts} attempts.\")\n",
        "                break\n",
        "            elif response == 'h':\n",
        "                high = guess - 1\n",
        "            elif response == 'l':\n",
        "                low = guess + 1\n",
        "            else:\n",
        "                print(\"Invalid input! Please enter 'h' for too high, 'l' for too low, or 'c' for correct.\")\n",
        "\n",
        "if __name__ == \"__main__\":\n",
        "    game = NumberGuesser()\n",
        "    game.play()\n"
      ]
    }
  ]
}