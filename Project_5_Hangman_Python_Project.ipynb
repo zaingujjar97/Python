{
  "nbformat": 4,
  "nbformat_minor": 0,
  "metadata": {
    "colab": {
      "provenance": []
    },
    "kernelspec": {
      "name": "python3",
      "display_name": "Python 3"
    },
    "language_info": {
      "name": "python"
    }
  },
  "cells": [
    {
      "cell_type": "code",
      "execution_count": null,
      "metadata": {
        "colab": {
          "base_uri": "https://localhost:8080/"
        },
        "id": "YAvYLzRAYd7r",
        "outputId": "4580d957-c1e9-4641-ec3f-eb101e000434"
      },
      "outputs": [
        {
          "output_type": "stream",
          "name": "stdout",
          "text": [
            "Welcome to Hangman!\n",
            "Word:  _ _ _ _\n",
            "Attempts left: 6\n",
            "Guessed letters: \n",
            "Guess a letter: j\n",
            "Good guess!\n",
            "Word:  j _ _ _\n",
            "Attempts left: 6\n",
            "Guessed letters: j\n",
            "Guess a letter: a\n",
            "Good guess!\n",
            "Word:  j a _ a\n",
            "Attempts left: 6\n",
            "Guessed letters: a, j\n",
            "Guess a letter: v\n",
            "Good guess!\n",
            "Word:  j a v a\n",
            "Attempts left: 6\n",
            "Guessed letters: a, v, j\n",
            "Congratulations! You guessed the word: java\n"
          ]
        }
      ],
      "source": [
        "import random\n",
        "\n",
        "class Hangman:\n",
        "    def __init__(self, word_list):\n",
        "        self.word_list = word_list\n",
        "        self.word = random.choice(self.word_list).lower()\n",
        "        self.guessed_letters = set()\n",
        "        self.attempts = 6\n",
        "        self.display_word = ['_' for _ in self.word]\n",
        "\n",
        "    def display_status(self):\n",
        "        print(\"Word: \", \" \".join(self.display_word))\n",
        "        print(f\"Attempts left: {self.attempts}\")\n",
        "        print(f\"Guessed letters: {', '.join(self.guessed_letters)}\")\n",
        "\n",
        "    def play(self):\n",
        "        print(\"Welcome to Hangman!\")\n",
        "        while self.attempts > 0 and '_' in self.display_word:\n",
        "            self.display_status()\n",
        "            guess = input(\"Guess a letter: \").lower()\n",
        "\n",
        "            if len(guess) != 1 or not guess.isalpha():\n",
        "                print(\"Please enter a single valid letter.\")\n",
        "                continue\n",
        "\n",
        "            if guess in self.guessed_letters:\n",
        "                print(\"You already guessed that letter!\")\n",
        "                continue\n",
        "\n",
        "            self.guessed_letters.add(guess)\n",
        "\n",
        "            if guess in self.word:\n",
        "                for i, letter in enumerate(self.word):\n",
        "                    if letter == guess:\n",
        "                        self.display_word[i] = guess\n",
        "                print(\"Good guess!\")\n",
        "            else:\n",
        "                self.attempts -= 1\n",
        "                print(\"Wrong guess!\")\n",
        "\n",
        "        self.display_status()\n",
        "        if '_' not in self.display_word:\n",
        "            print(f\"Congratulations! You guessed the word: {self.word}\")\n",
        "        else:\n",
        "            print(f\"Game Over! The word was: {self.word}\")\n",
        "\n",
        "if __name__ == \"__main__\":\n",
        "    word_list = [\"python\", \"java\", \"hangman\", \"programming\", \"developer\"]\n",
        "    game = Hangman(word_list)\n",
        "    game.play()\n"
      ]
    }
  ]
}