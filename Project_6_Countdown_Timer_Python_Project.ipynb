{
  "nbformat": 4,
  "nbformat_minor": 0,
  "metadata": {
    "colab": {
      "provenance": []
    },
    "kernelspec": {
      "name": "python3",
      "display_name": "Python 3"
    },
    "language_info": {
      "name": "python"
    }
  },
  "cells": [
    {
      "cell_type": "code",
      "execution_count": null,
      "metadata": {
        "colab": {
          "base_uri": "https://localhost:8080/"
        },
        "id": "z6u3UbL4ZC23",
        "outputId": "29b9b3e6-15c7-48d4-e0df-51bd58b836e4"
      },
      "outputs": [
        {
          "output_type": "stream",
          "name": "stdout",
          "text": [
            "Enter countdown time in seconds: 19\n",
            "Starting countdown for 19 seconds...\n",
            "Time's up!\n"
          ]
        }
      ],
      "source": [
        "import time\n",
        "\n",
        "class CountdownTimer:\n",
        "    def __init__(self, seconds):\n",
        "        self.seconds = seconds\n",
        "\n",
        "    def start(self):\n",
        "        print(f\"Starting countdown for {self.seconds} seconds...\")\n",
        "        while self.seconds:\n",
        "            mins, secs = divmod(self.seconds, 60)\n",
        "            timer = f\"{mins:02}:{secs:02}\"\n",
        "            print(timer, end=\"\\r\")\n",
        "            time.sleep(1)\n",
        "            self.seconds -= 1\n",
        "        print(\"Time's up!\")\n",
        "\n",
        "if __name__ == \"__main__\":\n",
        "    try:\n",
        "        seconds = int(input(\"Enter countdown time in seconds: \"))\n",
        "        timer = CountdownTimer(seconds)\n",
        "        timer.start()\n",
        "    except ValueError:\n",
        "        print(\"Please enter a valid number of seconds.\")\n"
      ]
    }
  ]
}