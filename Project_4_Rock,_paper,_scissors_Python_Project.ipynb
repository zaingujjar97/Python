{
  "nbformat": 4,
  "nbformat_minor": 0,
  "metadata": {
    "colab": {
      "provenance": []
    },
    "kernelspec": {
      "name": "python3",
      "display_name": "Python 3"
    },
    "language_info": {
      "name": "python"
    }
  },
  "cells": [
    {
      "cell_type": "code",
      "execution_count": null,
      "metadata": {
        "colab": {
          "base_uri": "https://localhost:8080/"
        },
        "id": "EcBMGBSaXvN9",
        "outputId": "6d880183-d186-4f5f-9e46-8a4a73b7c318"
      },
      "outputs": [
        {
          "output_type": "stream",
          "name": "stdout",
          "text": [
            "Welcome to Rock, Paper, Scissors!\n",
            "Enter rock, paper, or scissors (or 'quit' to exit): rock\n",
            "Computer chose: rock\n",
            "It's a tie!\n",
            "---\n",
            "Enter rock, paper, or scissors (or 'quit' to exit): paper\n",
            "Computer chose: scissors\n",
            "Computer wins!\n",
            "---\n",
            "Enter rock, paper, or scissors (or 'quit' to exit): rock\n",
            "Computer chose: rock\n",
            "It's a tie!\n",
            "---\n",
            "Enter rock, paper, or scissors (or 'quit' to exit): rock\n",
            "Computer chose: rock\n",
            "It's a tie!\n",
            "---\n",
            "Enter rock, paper, or scissors (or 'quit' to exit): paper\n",
            "Computer chose: scissors\n",
            "Computer wins!\n",
            "---\n",
            "Enter rock, paper, or scissors (or 'quit' to exit): scissors\n",
            "Computer chose: rock\n",
            "Computer wins!\n",
            "---\n",
            "Enter rock, paper, or scissors (or 'quit' to exit): quit\n",
            "Thanks for playing!\n"
          ]
        }
      ],
      "source": [
        "import random\n",
        "\n",
        "class RockPaperScissors:\n",
        "    def __init__(self):\n",
        "        self.choices = [\"rock\", \"paper\", \"scissors\"]\n",
        "\n",
        "    def get_computer_choice(self):\n",
        "        return random.choice(self.choices)\n",
        "\n",
        "    def determine_winner(self, user_choice, computer_choice):\n",
        "        if user_choice == computer_choice:\n",
        "            return \"It's a tie!\"\n",
        "        elif (user_choice == \"rock\" and computer_choice == \"scissors\") or \\\n",
        "             (user_choice == \"scissors\" and computer_choice == \"paper\") or \\\n",
        "             (user_choice == \"paper\" and computer_choice == \"rock\"):\n",
        "            return \"You win!\"\n",
        "        else:\n",
        "            return \"Computer wins!\"\n",
        "\n",
        "    def play(self):\n",
        "        print(\"Welcome to Rock, Paper, Scissors!\")\n",
        "        while True:\n",
        "            user_choice = input(\"Enter rock, paper, or scissors (or 'quit' to exit): \").lower()\n",
        "            if user_choice == 'quit':\n",
        "                print(\"Thanks for playing!\")\n",
        "                break\n",
        "            elif user_choice not in self.choices:\n",
        "                print(\"Invalid choice, try again.\")\n",
        "                continue\n",
        "\n",
        "            computer_choice = self.get_computer_choice()\n",
        "            print(f\"Computer chose: {computer_choice}\")\n",
        "            result = self.determine_winner(user_choice, computer_choice)\n",
        "            print(result)\n",
        "            print(\"---\")\n",
        "\n",
        "if __name__ == \"__main__\":\n",
        "    game = RockPaperScissors()\n",
        "    game.play()\n"
      ]
    }
  ]
}