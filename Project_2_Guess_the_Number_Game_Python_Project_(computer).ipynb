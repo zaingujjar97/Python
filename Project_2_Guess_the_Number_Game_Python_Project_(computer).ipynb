{
  "nbformat": 4,
  "nbformat_minor": 0,
  "metadata": {
    "colab": {
      "provenance": []
    },
    "kernelspec": {
      "name": "python3",
      "display_name": "Python 3"
    },
    "language_info": {
      "name": "python"
    }
  },
  "cells": [
    {
      "cell_type": "code",
      "execution_count": null,
      "metadata": {
        "colab": {
          "base_uri": "https://localhost:8080/"
        },
        "id": "FZTnlQ7_V24F",
        "outputId": "bdcabc6f-16b2-4a53-899c-91db785a67fe"
      },
      "outputs": [
        {
          "output_type": "stream",
          "name": "stdout",
          "text": [
            "I have chosen a number between 1 and 100. Try to guess it!\n",
            "Enter your guess: 4\n",
            "Too low! Try again.\n",
            "Enter your guess: 6\n",
            "Too low! Try again.\n",
            "Enter your guess: 3\n",
            "Too low! Try again.\n",
            "Enter your guess: 6\n",
            "Too low! Try again.\n",
            "Enter your guess: 8\n",
            "Too low! Try again.\n",
            "Enter your guess: 67\n",
            "Too high! Try again.\n",
            "Enter your guess: 50\n",
            "Too low! Try again.\n",
            "Enter your guess: 51\n",
            "Too low! Try again.\n",
            "Enter your guess: 59\n",
            "Too low! Try again.\n",
            "Enter your guess: 62\n",
            "Congratulations! You guessed the number 62 in 10 attempts.\n"
          ]
        }
      ],
      "source": [
        "import random\n",
        "\n",
        "class GuessTheNumber:\n",
        "    def __init__(self, lower=1, upper=100):\n",
        "        self.lower = lower\n",
        "        self.upper = upper\n",
        "        self.number = random.randint(self.lower, self.upper)\n",
        "        self.attempts = 0\n",
        "\n",
        "    def play(self):\n",
        "        print(f\"I have chosen a number between {self.lower} and {self.upper}. Try to guess it!\")\n",
        "        while True:\n",
        "            try:\n",
        "                guess = int(input(\"Enter your guess: \"))\n",
        "                self.attempts += 1\n",
        "                if guess < self.number:\n",
        "                    print(\"Too low! Try again.\")\n",
        "                elif guess > self.number:\n",
        "                    print(\"Too high! Try again.\")\n",
        "                else:\n",
        "                    print(f\"Congratulations! You guessed the number {self.number} in {self.attempts} attempts.\")\n",
        "                    break\n",
        "            except ValueError:\n",
        "                print(\"Please enter a valid integer.\")\n",
        "\n",
        "if __name__ == \"__main__\":\n",
        "    game = GuessTheNumber()\n",
        "    game.play()\n"
      ]
    }
  ]
}