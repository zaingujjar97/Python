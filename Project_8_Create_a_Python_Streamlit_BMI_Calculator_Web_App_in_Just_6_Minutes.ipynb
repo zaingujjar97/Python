{
  "nbformat": 4,
  "nbformat_minor": 0,
  "metadata": {
    "colab": {
      "provenance": []
    },
    "kernelspec": {
      "name": "python3",
      "display_name": "Python 3"
    },
    "language_info": {
      "name": "python"
    }
  },
  "cells": [
    {
      "cell_type": "code",
      "execution_count": null,
      "metadata": {
        "colab": {
          "base_uri": "https://localhost:8080/"
        },
        "id": "TIwADuigahrh",
        "outputId": "f8a2202c-6b58-4e0f-f37b-bdb4eb4d1210"
      },
      "outputs": [
        {
          "output_type": "stream",
          "name": "stdout",
          "text": [
            "Overwriting app.py\n"
          ]
        }
      ],
      "source": [
        "%%writefile app.py\n",
        "import streamlit as st\n",
        "\n",
        "def calculate_bmi(weight, height):\n",
        "    return weight / (height ** 2)\n",
        "\n",
        "st.title(\"BMI Calculator\")\n",
        "\n",
        "weight = st.number_input(\"Enter your weight (kg)\", min_value=1.0, format=\"%.2f\")\n",
        "height = st.number_input(\"Enter your height (m)\", min_value=0.5, format=\"%.2f\")\n",
        "\n",
        "if st.button(\"Calculate BMI\"):\n",
        "    if weight > 0 and height > 0:\n",
        "        bmi = calculate_bmi(weight, height)\n",
        "        st.write(f\"Your BMI is: {bmi:.2f}\")\n",
        "        if bmi < 18.5:\n",
        "            st.write(\"You are underweight.\")\n",
        "        elif 18.5 <= bmi < 24.9:\n",
        "            st.write(\"You have a normal weight.\")\n",
        "        elif 25 <= bmi < 29.9:\n",
        "            st.write(\"You are overweight.\")\n",
        "        else:\n",
        "            st.write(\"You are obese.\")\n",
        "    else:\n",
        "        st.write(\"Please enter valid values for weight and height.\")\n"
      ]
    },
    {
      "cell_type": "code",
      "source": [
        "!curl ifconfig.me ## Use this as a pascode"
      ],
      "metadata": {
        "colab": {
          "base_uri": "https://localhost:8080/"
        },
        "id": "eqHiL59neAH9",
        "outputId": "28244bfc-478d-476d-ff14-847beb82b0bf"
      },
      "execution_count": null,
      "outputs": [
        {
          "output_type": "stream",
          "name": "stdout",
          "text": [
            "34.106.253.41"
          ]
        }
      ]
    },
    {
      "cell_type": "code",
      "source": [
        "!streamlit run app.py & npx localtunnel --port 8501 --subdomain mybmicalc"
      ],
      "metadata": {
        "colab": {
          "base_uri": "https://localhost:8080/"
        },
        "id": "fDTMWyp3dPqU",
        "outputId": "6c1afb67-67a4-4d66-9e01-c1f637068c83"
      },
      "execution_count": null,
      "outputs": [
        {
          "output_type": "stream",
          "name": "stdout",
          "text": [
            "\n",
            "Collecting usage statistics. To deactivate, set browser.gatherUsageStats to false.\n",
            "\u001b[0m\n",
            "\u001b[1G\u001b[0K⠙\u001b[1G\u001b[0K⠹\u001b[1G\u001b[0K⠸\u001b[1G\u001b[0K⠼\u001b[1G\u001b[0K⠴\u001b[0m\n",
            "\u001b[34m\u001b[1m  You can now view your Streamlit app in your browser.\u001b[0m\n",
            "\u001b[0m\n",
            "\u001b[34m  Local URL: \u001b[0m\u001b[1mhttp://localhost:8501\u001b[0m\n",
            "\u001b[34m  Network URL: \u001b[0m\u001b[1mhttp://172.28.0.12:8501\u001b[0m\n",
            "\u001b[34m  External URL: \u001b[0m\u001b[1mhttp://34.106.253.41:8501\u001b[0m\n",
            "\u001b[0m\n",
            "\u001b[1G\u001b[0Kyour url is: https://mybmicalc.loca.lt\n",
            "\u001b[34m  Stopping...\u001b[0m\n",
            "^C\n"
          ]
        }
      ]
    }
  ]
}