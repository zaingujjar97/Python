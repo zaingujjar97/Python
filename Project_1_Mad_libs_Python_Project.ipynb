{
  "nbformat": 4,
  "nbformat_minor": 0,
  "metadata": {
    "colab": {
      "provenance": []
    },
    "kernelspec": {
      "name": "python3",
      "display_name": "Python 3"
    },
    "language_info": {
      "name": "python"
    }
  },
  "cells": [
    {
      "cell_type": "code",
      "execution_count": null,
      "metadata": {
        "colab": {
          "base_uri": "https://localhost:8080/"
        },
        "id": "e1bLgK1vUrwm",
        "outputId": "bdd8eb0d-863f-48d0-a2b2-3d7604ddf974"
      },
      "outputs": [
        {
          "output_type": "stream",
          "name": "stdout",
          "text": [
            "Enter an adjective: cheerful\n",
            "Enter a noun: dragon\n",
            "Enter a verb: dance\n",
            "Enter a place: castle\n",
            "\n",
            "Here is your Mad Libs story:\n",
            "One day, a cheerful dragon decided to dance at the castle. It was a wonderful adventure!\n"
          ]
        }
      ],
      "source": [
        "def mad_libs():\n",
        "    adjective = input(\"Enter an adjective: \")\n",
        "    noun = input(\"Enter a noun: \")\n",
        "    verb = input(\"Enter a verb: \")\n",
        "    place = input(\"Enter a place: \")\n",
        "\n",
        "    story = f\"One day, a {adjective} {noun} decided to {verb} at the {place}. It was a wonderful adventure!\"\n",
        "\n",
        "    print(\"\\nHere is your Mad Libs story:\")\n",
        "    print(story)\n",
        "\n",
        "if __name__ == \"__main__\":\n",
        "    mad_libs()\n"
      ]
    }
  ]
}