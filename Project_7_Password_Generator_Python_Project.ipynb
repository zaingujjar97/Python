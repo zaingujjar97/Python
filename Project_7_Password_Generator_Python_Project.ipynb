{
  "nbformat": 4,
  "nbformat_minor": 0,
  "metadata": {
    "colab": {
      "provenance": []
    },
    "kernelspec": {
      "name": "python3",
      "display_name": "Python 3"
    },
    "language_info": {
      "name": "python"
    }
  },
  "cells": [
    {
      "cell_type": "code",
      "execution_count": null,
      "metadata": {
        "colab": {
          "base_uri": "https://localhost:8080/"
        },
        "id": "0-aSCrP6Zjj3",
        "outputId": "3c97b538-478c-4782-f57e-9dba2b5d9d73"
      },
      "outputs": [
        {
          "output_type": "stream",
          "name": "stdout",
          "text": [
            "Enter password length: 12\n",
            "Include digits? (y/n): y\n",
            "Include special characters? (y/n): y\n",
            "Generated Password: .rlg:uW#$Rc(\n"
          ]
        }
      ],
      "source": [
        "import random\n",
        "import string\n",
        "\n",
        "class PasswordGenerator:\n",
        "    def __init__(self, length=12, use_digits=True, use_special=True):\n",
        "        self.length = length\n",
        "        self.use_digits = use_digits\n",
        "        self.use_special = use_special\n",
        "\n",
        "    def generate(self):\n",
        "        characters = string.ascii_letters\n",
        "        if self.use_digits:\n",
        "            characters += string.digits\n",
        "        if self.use_special:\n",
        "            characters += string.punctuation\n",
        "\n",
        "        password = ''.join(random.choice(characters) for _ in range(self.length))\n",
        "        return password\n",
        "\n",
        "if __name__ == \"__main__\":\n",
        "    try:\n",
        "        length = int(input(\"Enter password length: \"))\n",
        "        use_digits = input(\"Include digits? (y/n): \").strip().lower() == 'y'\n",
        "        use_special = input(\"Include special characters? (y/n): \").strip().lower() == 'y'\n",
        "\n",
        "        generator = PasswordGenerator(length, use_digits, use_special)\n",
        "        print(f\"Generated Password: {generator.generate()}\")\n",
        "    except ValueError:\n",
        "        print(\"Please enter a valid number for password length.\")\n"
      ]
    }
  ]
}